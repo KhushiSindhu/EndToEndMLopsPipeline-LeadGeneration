{
 "cells": [
  {
   "cell_type": "code",
   "execution_count": 1,
   "id": "1037350a-34ca-4bb7-ac4e-eab1d66c0db1",
   "metadata": {},
   "outputs": [],
   "source": [
    "from utils import * "
   ]
  },
  {
   "cell_type": "code",
   "execution_count": 2,
   "id": "8299df20-42dd-4793-bb3e-ee45ac9c91f1",
   "metadata": {},
   "outputs": [
    {
     "name": "stdout",
     "output_type": "stream",
     "text": [
      "DB Already Exists\n"
     ]
    },
    {
     "data": {
      "text/plain": [
       "'DB Exists'"
      ]
     },
     "execution_count": 2,
     "metadata": {},
     "output_type": "execute_result"
    }
   ],
   "source": [
    "# Run the build_dbs function\n",
    "build_dbs()"
   ]
  },
  {
   "cell_type": "code",
   "execution_count": 3,
   "id": "c17e65e6-d478-4b3b-8d84-d261aff031c5",
   "metadata": {},
   "outputs": [
    {
     "name": "stdout",
     "output_type": "stream",
     "text": [
      "Data Loaded Successfully into the DB!\n"
     ]
    }
   ],
   "source": [
    "# Run the load_data_into_db function\n",
    "load_data_into_db()"
   ]
  },
  {
   "cell_type": "code",
   "execution_count": 4,
   "id": "47eeae50-9030-4074-aeae-4c8548009d4d",
   "metadata": {},
   "outputs": [
    {
     "name": "stdout",
     "output_type": "stream",
     "text": [
      "City tier mapping complete!\n"
     ]
    }
   ],
   "source": [
    "# Run the map_city_tier function\n",
    "map_city_tier()"
   ]
  },
  {
   "cell_type": "code",
   "execution_count": 5,
   "id": "e75a9300-05ec-44b0-ab92-6e525bb2ebfc",
   "metadata": {},
   "outputs": [
    {
     "name": "stdout",
     "output_type": "stream",
     "text": [
      "categorical_variables_mapped table has been saved in the database\n"
     ]
    }
   ],
   "source": [
    "# Run the map_categorical_vars function\n",
    "map_categorical_vars()"
   ]
  },
  {
   "cell_type": "code",
   "execution_count": 6,
   "id": "b655b039-a800-415b-8463-6ff35ecba4b0",
   "metadata": {},
   "outputs": [
    {
     "data": {
      "text/plain": [
       "'Interactions mapping completed successfully'"
      ]
     },
     "execution_count": 6,
     "metadata": {},
     "output_type": "execute_result"
    }
   ],
   "source": [
    "# Run the interactions_mapping function\n",
    "interactions_mapping()"
   ]
  },
  {
   "cell_type": "markdown",
   "id": "9aa3791d-59fb-4699-a530-e50fdca6d40d",
   "metadata": {},
   "source": [
    "#### Test_with_pytest validation\n"
   ]
  },
  {
   "cell_type": "code",
   "execution_count": 7,
   "id": "652d3fbf-f2c5-4484-b8f4-314a11e7ccfd",
   "metadata": {},
   "outputs": [],
   "source": [
    "from test_with_pytest import * "
   ]
  },
  {
   "cell_type": "code",
   "execution_count": 8,
   "id": "62e769d9-b8a3-4cd6-ab38-89987c4d0653",
   "metadata": {},
   "outputs": [
    {
     "name": "stdout",
     "output_type": "stream",
     "text": [
      "DB Already Exists\n",
      "Data Loaded Successfully into the DB!\n",
      "(100, 45)\n",
      "(100, 45)\n",
      "Test case passed!\n"
     ]
    }
   ],
   "source": [
    "test_load_data_into_db()"
   ]
  },
  {
   "cell_type": "code",
   "execution_count": 9,
   "id": "405361a7-e76e-4354-8671-1dd0db13830e",
   "metadata": {},
   "outputs": [
    {
     "name": "stdout",
     "output_type": "stream",
     "text": [
      "City tier mapping complete!\n",
      "(100, 45)\n",
      "(100, 45)\n",
      "Test case passed!\n"
     ]
    }
   ],
   "source": [
    "test_map_city_tier()"
   ]
  },
  {
   "cell_type": "code",
   "execution_count": 10,
   "id": "1654b245-2c36-465f-b2bd-588f476fe835",
   "metadata": {},
   "outputs": [
    {
     "name": "stdout",
     "output_type": "stream",
     "text": [
      "categorical_variables_mapped table has been saved in the database\n",
      "(100, 45)\n",
      "(100, 45)\n",
      "Test case passed!\n"
     ]
    }
   ],
   "source": [
    "test_map_categorical_vars()"
   ]
  },
  {
   "cell_type": "code",
   "execution_count": 11,
   "id": "83807201-467a-4b12-9414-1a814bd182ab",
   "metadata": {},
   "outputs": [
    {
     "name": "stdout",
     "output_type": "stream",
     "text": [
      "(100, 13)\n",
      "(100, 13)\n",
      "Test case passed!\n"
     ]
    }
   ],
   "source": [
    "test_interactions_mapping()"
   ]
  },
  {
   "cell_type": "code",
   "execution_count": null,
   "id": "eecb30c1-5eef-4482-a73a-c98fb02161eb",
   "metadata": {},
   "outputs": [],
   "source": []
  }
 ],
 "metadata": {
  "kernelspec": {
   "display_name": "Python 3 (ipykernel)",
   "language": "python",
   "name": "python3"
  },
  "language_info": {
   "codemirror_mode": {
    "name": "ipython",
    "version": 3
   },
   "file_extension": ".py",
   "mimetype": "text/x-python",
   "name": "python",
   "nbconvert_exporter": "python",
   "pygments_lexer": "ipython3",
   "version": "3.8.12"
  }
 },
 "nbformat": 4,
 "nbformat_minor": 5
}
