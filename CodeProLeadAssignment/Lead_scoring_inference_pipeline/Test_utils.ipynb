{
 "cells": [
  {
   "cell_type": "code",
   "execution_count": 1,
   "id": "c5ed8a71-fa1a-46a8-a1a9-32c4cb344b42",
   "metadata": {},
   "outputs": [
    {
     "name": "stdout",
     "output_type": "stream",
     "text": [
      "[\u001b[34m2023-02-19 09:24:18,706\u001b[0m] {\u001b[34mutils.py:\u001b[0m145} INFO\u001b[0m - Note: NumExpr detected 64 cores but \"NUMEXPR_MAX_THREADS\" not set, so enforcing safe limit of 8.\u001b[0m\n",
      "[\u001b[34m2023-02-19 09:24:18,708\u001b[0m] {\u001b[34mutils.py:\u001b[0m157} INFO\u001b[0m - NumExpr defaulting to 8 threads.\u001b[0m\n"
     ]
    }
   ],
   "source": [
    "from airflow import DAG\n",
    "from airflow.operators.python import PythonOperator\n",
    "from airflow.operators.bash import BashOperator\n",
    "\n",
    "from datetime import datetime, timedelta\n",
    "import sys\n",
    "import importlib.util\n",
    "from utils import *\n",
    "from constants import *"
   ]
  },
  {
   "cell_type": "code",
   "execution_count": 2,
   "id": "b6936fc5-08df-4c96-9ac4-2b548df37e4d",
   "metadata": {},
   "outputs": [
    {
     "name": "stdout",
     "output_type": "stream",
     "text": [
      "Data has been extracted successfully.\n",
      "input_data has been saved successfully to table features\n",
      "input data has been written successfully to tables features\n"
     ]
    }
   ],
   "source": [
    "encode_features()"
   ]
  },
  {
   "cell_type": "code",
   "execution_count": 3,
   "id": "7e352546-c5fb-4f32-9161-cb9ac6da2031",
   "metadata": {},
   "outputs": [
    {
     "name": "stdout",
     "output_type": "stream",
     "text": [
      "['first_platform_c', 'first_utm_medium_c', 'first_utm_source_c', 'city_tier', 'first_platform_c_Level8', 'first_platform_c_Level2', 'first_utm_medium_c_Level13', 'first_utm_medium_c_Level0', 'first_platform_c_Level7', 'first_platform_c_Level0']\n",
      "Some of the models inputs are missing\n"
     ]
    }
   ],
   "source": [
    "input_features_check()"
   ]
  },
  {
   "cell_type": "code",
   "execution_count": 4,
   "id": "e830a736-a652-4c95-a891-78a1d6ac6399",
   "metadata": {},
   "outputs": [
    {
     "name": "stdout",
     "output_type": "stream",
     "text": [
      "/home/airflow/dags/Lead_scoring_inference_pipeline\n",
      "/home/airflow\n",
      "[1 1 1 ... 1 1 1]\n",
      "input_data has been saved successfully to table predicted_output\n"
     ]
    },
    {
     "data": {
      "text/plain": [
       "'Predictions are done and save in Final_Predictions Table'"
      ]
     },
     "execution_count": 4,
     "metadata": {},
     "output_type": "execute_result"
    }
   ],
   "source": [
    "get_models_prediction()"
   ]
  },
  {
   "cell_type": "code",
   "execution_count": 5,
   "id": "ee96c64d-63c2-41ea-b77b-98b3d92740c3",
   "metadata": {},
   "outputs": [
    {
     "name": "stdout",
     "output_type": "stream",
     "text": [
      "Data has been extracted successfully.\n",
      "Output file has been generated successfully /home/airflow/dags/Lead_scoring_inference_pipeline/prediction_distribution_20230219092525.txt\n"
     ]
    }
   ],
   "source": [
    "prediction_ratio_check()"
   ]
  },
  {
   "cell_type": "code",
   "execution_count": null,
   "id": "fb31951d-4e71-4f89-8e6a-bc437bdfb2e5",
   "metadata": {},
   "outputs": [],
   "source": []
  }
 ],
 "metadata": {
  "kernelspec": {
   "display_name": "Python 3 (ipykernel)",
   "language": "python",
   "name": "python3"
  },
  "language_info": {
   "codemirror_mode": {
    "name": "ipython",
    "version": 3
   },
   "file_extension": ".py",
   "mimetype": "text/x-python",
   "name": "python",
   "nbconvert_exporter": "python",
   "pygments_lexer": "ipython3",
   "version": "3.8.12"
  }
 },
 "nbformat": 4,
 "nbformat_minor": 5
}
